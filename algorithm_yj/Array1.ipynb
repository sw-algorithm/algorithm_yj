{
 "cells": [
  {
   "cell_type": "markdown",
   "metadata": {},
   "source": [
    "# Array1"
   ]
  },
  {
   "cell_type": "markdown",
   "metadata": {},
   "source": [
    "- study 학습 \n",
    "    - JAVA의 BufferReader 학습하기\n",
    "    - Stack 함수 익히기"
   ]
  },
  {
   "cell_type": "markdown",
   "metadata": {},
   "source": [
    "## Exhaustive Search \n",
    "- 문제의 해법으로 생각할 수 있는 모든 경우의 수를 나열해 보고 확인하는 기법이다.\n",
    "- 모든 경우의 수를 테스트한 후, 최종 해법을 도출한다."
   ]
  },
  {
   "cell_type": "markdown",
   "metadata": {},
   "source": [
    "## Greedy Algorithm\n",
    "- 여러 경우 중 하나를 결정해야 할 때마다 그 순간에 최적이라고 생각되는 것을 선택해 나가는 방식으로 진행하여 최종적인 해답에 도달한다. \n",
    "- 각 선택의 시점에서 이루어지는 결정은 지역적으로 최적이지만, 그 선택들을 계속 수집하여 최종적인 해답을 만들었다고 하여, 그것이 최적이라는 보장은 없다."
   ]
  },
  {
   "cell_type": "markdown",
   "metadata": {},
   "source": [
    "## Sort\n",
    "### Bubble Sort\n",
    "    - 인접한 두 개의 원소를 비교하며 자리를 계속 교환하는 방식이다.\n",
    "    - 시간 복잡도: O(n^2)\n",
    "### Counting Sort \n",
    "    - 항목들의 순서를 결정하기 위해 집합에 각 항복이 몇 개의 있는지 세는 작업을 하여, 선형 시간에 정렬하는 효율적인 Algorithm이다.\n",
    "    - 시간 복잡도: O(n+k): n은 항목의 개수이며, k는 정수의 최대값이다."
   ]
  },
  {
   "cell_type": "markdown",
   "metadata": {},
   "source": [
    "# 1. 최빈수 구하기\n",
    "\n",
    "10, 8, 7, 2, 2, 4, 8, 8, 8, 9, 5, 5, 3\n",
    "\n",
    "최빈수는 8이 된다.\n",
    "\n",
    "최빈수를 출력하는 프로그램을 작성하여라 (단, 최빈수가 여러 개 일 때에는 가장 큰 점수를 출력하라).\n",
    "\n",
    "[제약 사항]\n",
    "\n",
    "학생의 수는 1000명이며, 각 학생의 점수는 0점 이상 100점 이하의 값이다."
   ]
  },
  {
   "cell_type": "markdown",
   "metadata": {},
   "source": [
    "## Python"
   ]
  },
  {
   "cell_type": "code",
   "execution_count": 26,
   "metadata": {
    "scrolled": false
   },
   "outputs": [
    {
     "name": "stdout",
     "output_type": "stream",
     "text": [
      "2\n",
      "1\n",
      "93 29 85 84 5 25 43 70 29 25 61 78 5 80 9 65 7 39 44 91 42 60 38 54 19 31 94 87 68 46 57 52 91 16 95 90 73 32 4 1 92 17 68 67 49 33 3 5 1 80 75 31 40 53 58 2 63 31 87 80 11 50 1 74 31 52 53 70 1 85 6 99 15 35 28 49 75 97 33 25 74 44 18 47 29 47 44 56 69 31 79 7 46 23 95 76 47 38 37 97 79 79 47 60 75 5 23 48 97 70 67 2 83 57 58 90 74 13 77 89 2 77 76 21 100 93 82 64 34 94 31 88 91 77 32 47 38 18 81 70 0 20 41 37 37 17 77 43 99 79 4 34 66 74 4 1 59 38 34 34 0 24 9 76 56 95 51 43 55 51 65 10 73 12 17 66 54 97 52 57 84 65 89 38 55 28 77 98 10 36 93 33 58 99 36 19 77 59 50 35 83 85 87 3 3 63 16 31 17 2 38 27 28 59 29 63 75 52 60 2 3 14 79 28 75 30 39 77 75 65 59 79 2 47 4 29 96 84 37 98 16 56 63 34 75 32 69 80 24 60 3 95 40 57 60 94 22 37 20 79 27 2 59 89 88 37 81 37 11 56 95 33 82 25 76 14 79 81 48 79 53 54 69 95 99 96 98 24 43 81 89 69 71 27 33 61 22 91 55 46 15 83 28 75 34 82 86 61 2 79 3 74 63 56 33 65 87 64 66 22 84 42 100 47 45 23 46 83 68 44 74 77 88 7 47 18 64 87 96 39 74 60 70 57 6 74 65 98 85 89 8 68 87 90 43 41 2 52 75 19 11 35 27 35 65 85 28 41 7 74 39 83 13 61 80 38 74 79 22 39 45 22 81 32 17 95 25 37 99 3 66 42 17 7 56 23 30 7 78 11 74 10 13 72 70 34 95 35 64 42 71 9 95 96 22 81 36 78 19 78 4 33 91 46 3 6 33 5 39 34 54 32 59 24 4 24 80 98 41 32 39 25 63 70 45 98 85 56 24 29 14 75 35 91 93 30 9 81 39 71 47 8 44 100 88 43 49 48 93 6 18 31 74 8 89 95 11 24 1 7 15 61 34 12 34 40 81 72 98 26 41 79 69 51 73 46 31 44 58 90 77 0 6 85 77 59 41 1 8 69 50 50 37 57 63 30 34 24 80 86 81 83 14 76 79 55 51 96 73 64 18 96 100 28 86 82 51 4 73 94 10 18 15 15 55 61 63 27 27 11 7 33 39 66 8 49 7 92 0 6 46 70 38 14 32 77 31 2 23 19 61 29 51 31 69 46 55 37 56 27 31 7 15 13 47 65 35 88 89 0 70 31 6 62 29 36 15 58 61 62 58 24 26 83 77 44 66 47 78 79 88 13 55 74 15 60 13 89 100 94 72 18 62 13 3 14 7 47 93 52 33 69 41 12 9 85 94 19 43 1 12 25 76 82 64 22 53 54 59 90 50 95 6 34 92 31 55 17 9 97 53 77 19 9 10 55 72 48 98 44 37 84 15 6 60 41 39 20 68 1 67 23 74 65 14 76 29 100 70 10 3 12 14 76 12 77 68 36 78 31 53 87 66 49 51 68 97 73 20 29 69 68 32 7 14 60 6 8 87 26 38 33 66 69 82 58 24 42 56 90 42 7 0 84 76 12 34 46 76 13 50 67 65 30 41 91 53 38 66 53 28 10 43 73 46 11 89 73 45 11 8 52 23 89 51 53 9 0 4 78 24 15 27 55 15 82 5 38 16 27 76 11 47 86 80 76 72 11 59 82 21 98 24 60 17 17 61 50 51 0 80 19 85 100 10 62 69 97 85 62 38 11 80 80 61 23 47 35 74 84 42 37 27 34 56 0 23 65 16 86 53 78 72 57 21 90 74 59 24 70 6 77 26 46 20 10 0 41 57 47 32 15 66 64 62 48 21 16 31 27 76 65 80 48 61 40 72 92 92 77 24 16 35 0 52 58 73 91 21 95 69 10 61 18 52 7 37 16 73 0 34 3 0 62 68 48 31 17 95 55 98 23 50 60 16 98 20 17 39 79 95 17 80 27 78 51 59 42 33 35 3 90 6 49 65 16 32 21 79 88 98 13 28 48 51 41 43 36 40 77 98 27 57 47 41 34 92 53 0 77 15 7 40 80 35 45 90 22 91 45 37 50 5 47 33 53 79 69 65 41 67 92 38 85 87 45 24 50 1 54 7 32 1 73 35 73 45 88 68 25 55 21 30 64 4 14 21 48 79 42 \n",
      "79\n",
      "2\n",
      "34 87 94 43 85 10 61 79 9 74 26 79 67 70 95 49 76 14 95 76 36 56 37 68 67 79 3 24 61 85 9 23 88 37 57 69 1 60 82 37 58 7 46 96 69 73 52 1 30 54 1 87 60 22 30 14 74 3 42 64 19 68 42 26 27 70 44 8 87 39 80 13 38 53 61 89 76 94 16 89 61 44 78 4 82 17 42 51 19 94 64 23 27 68 74 85 2 69 45 99 52 12 51 38 14 32 61 10 80 66 40 94 51 27 79 79 83 87 5 46 62 7 49 7 24 81 70 10 91 4 27 50 22 35 7 64 71 97 13 29 62 61 1 56 11 75 98 62 78 27 22 5 29 6 37 47 0 40 23 50 3 67 78 69 28 32 86 60 3 4 62 69 87 62 6 44 57 23 43 91 54 48 64 82 39 55 90 16 71 36 83 87 31 77 45 64 100 53 91 50 87 27 24 25 95 34 60 57 69 48 45 0 54 96 14 65 94 65 85 30 84 50 35 67 61 72 54 56 83 28 56 33 1 27 69 50 25 21 4 57 9 48 40 0 27 28 96 22 73 4 34 94 16 47 80 42 88 36 63 25 37 57 24 74 84 70 54 80 65 38 55 74 34 82 8 52 19 99 88 28 35 92 12 33 46 92 75 75 14 57 78 77 69 76 10 84 19 23 98 82 85 81 35 85 80 20 81 49 8 71 96 91 93 34 58 52 9 52 70 14 9 68 95 31 42 46 10 12 73 59 99 18 43 67 41 1 4 16 34 24 59 91 81 42 22 66 83 49 90 12 17 35 35 18 2 66 37 98 20 43 47 38 12 55 14 100 94 87 61 91 24 56 7 86 100 19 23 1 90 96 96 34 51 74 78 35 51 14 34 42 30 9 10 95 76 56 19 46 39 80 83 14 22 49 81 5 7 50 61 69 2 21 83 51 60 89 17 74 20 39 29 70 77 80 82 96 85 71 4 15 80 14 82 46 81 6 31 71 88 43 9 87 34 38 22 74 31 29 100 67 88 14 21 100 44 0 60 24 70 4 6 81 46 58 7 16 52 33 58 84 48 98 21 89 46 45 29 55 48 38 77 19 87 74 66 58 6 24 69 99 65 34 34 0 91 72 90 36 39 34 76 81 66 50 2 45 76 83 91 100 66 52 57 71 29 63 21 26 32 84 23 5 97 81 97 99 38 65 96 29 34 97 56 14 31 28 23 39 50 78 97 7 21 26 52 30 46 100 75 94 45 2 63 69 83 3 62 81 25 68 14 80 23 23 73 72 3 7 49 1 33 99 37 3 64 80 100 88 32 58 44 34 54 39 21 72 98 8 57 91 13 5 30 5 93 60 3 52 80 87 67 66 90 0 31 24 68 11 71 1 56 82 76 88 20 90 98 55 100 70 68 84 36 49 49 40 80 94 51 95 15 58 14 69 78 78 74 0 67 98 65 68 64 74 63 89 47 10 41 93 47 34 81 40 93 64 71 7 97 98 8 17 21 17 40 37 15 26 58 31 86 21 14 96 5 5 55 26 80 67 83 78 33 47 55 34 10 80 76 35 74 87 40 7 60 83 87 71 86 0 38 40 52 0 3 97 23 7 74 87 58 74 18 47 70 39 36 96 29 33 12 64 66 63 57 20 93 66 31 0 45 37 24 89 62 31 12 19 63 35 30 65 37 52 95 41 46 84 45 49 14 7 33 71 98 23 83 62 9 69 32 63 27 60 43 95 49 3 98 82 48 91 51 51 82 44 38 2 99 26 59 85 100 54 59 49 15 42 1 37 53 88 29 10 28 91 53 67 49 10 58 93 6 0 32 48 41 27 0 67 11 82 56 20 33 85 48 79 72 44 98 1 20 40 40 83 21 81 12 99 80 70 96 7 70 64 4 81 20 29 24 39 59 78 74 99 89 77 50 47 22 88 71 22 51 61 77 26 84 67 93 38 25 34 10 54 3 80 80 71 6 68 34 59 79 45 52 53 21 71 83 53 44 69 80 49 9 40 76 30 40 99 14 25 42 60 95 37 79 60 6 51 55 42 77 70 83 39 59 77 30 85 45 77 87 87 29 9 89 40 8 47 62 38 68 72 98 27 64 21 44 45 59 80 94 99 49 28 32 31 49 98 66 17 97 24 80 96 94 46 91 91 84 29 58 95 87 24 44 22 86 44 65 75 55 50 2 5 15 84 95 48 97 11 78 71 39 79 0 36 6 39 59 15 79 33 37 71 23 86 43 9 91 4 40 17 31 84 3 94 \n",
      "80\n",
      "# 1 79\n",
      "# 2 80\n"
     ]
    }
   ],
   "source": [
    "def solution(record):\n",
    "    count = [0 for i in range(0,1000)]\n",
    "    for i in range(0 , len(record)):\n",
    "        # 값을 index 배열로 정하고 카운팅 한다. \n",
    "         count[int(record[i])] += 1\n",
    "    return count\n",
    "\n",
    "# 값을 입력 받는다 \n",
    "number_loop = int(input())\n",
    "number_array = []\n",
    "get_count = [] \n",
    "max_index = [0 for i in range(0,1000)]\n",
    "\n",
    "# 값의 길이 까지 반복한다. \n",
    "for i in range(0, number_loop):\n",
    "    print(i+1)\n",
    "    max = 0 \n",
    "    index= 0\n",
    "    number_array = input().split()\n",
    "    get_count = solution(number_array)\n",
    "\n",
    "    for j in range(0, len(get_count)):\n",
    "        # 단, 최빈수가 여러 개 일 때에는 가장 큰 점수를 출력하라\n",
    "        if(get_count[j] >= max):\n",
    "            max = get_count[j]\n",
    "            index = j\n",
    "    max_index[i] = index\n",
    "            \n",
    "for i in range(0,number_loop):\n",
    "    print(\"#\",i+1, max_index[i])\n",
    "    "
   ]
  },
  {
   "cell_type": "markdown",
   "metadata": {},
   "source": [
    "## JAVA"
   ]
  },
  {
   "cell_type": "code",
   "execution_count": 1,
   "metadata": {},
   "outputs": [
    {
     "ename": "SyntaxError",
     "evalue": "invalid syntax (<ipython-input-1-252daf8cf087>, line 6)",
     "output_type": "error",
     "traceback": [
      "\u001b[1;36m  File \u001b[1;32m\"<ipython-input-1-252daf8cf087>\"\u001b[1;36m, line \u001b[1;32m6\u001b[0m\n\u001b[1;33m    public class Solution{\u001b[0m\n\u001b[1;37m               ^\u001b[0m\n\u001b[1;31mSyntaxError\u001b[0m\u001b[1;31m:\u001b[0m invalid syntax\n"
     ]
    }
   ],
   "source": [
    "import java.io.BufferedReader;\n",
    "import java.io.InputStreamReader;\n",
    "import java.util.Stack;\n",
    "import java.util.StringTokenizer;\n",
    " \n",
    "public class Solution{\n",
    "    public static void main(String[] args) throws Exception {\n",
    "        BufferedReader br = new BufferedReader(new InputStreamReader(System.in));\n",
    " \n",
    "        for (int t = 1; t <= 10; t++) {\n",
    "            int test = Integer.parseInt(br.readLine());\n",
    "            StringTokenizer st = new StringTokenizer(br.readLine());\n",
    " \n",
    "            int arr[] = new int[101];\n",
    " \n",
    "            while (st.hasMoreTokens()) {\n",
    "                int tmp = Integer.parseInt(st.nextToken());\n",
    "                arr[tmp]++;\n",
    "            }\n",
    "            int max = 0;\n",
    "            for (int data : arr)\n",
    "                if (data >= max)\n",
    "                    max = data;\n",
    " \n",
    "            Stack<Integer> stack = new Stack<>();\n",
    "            for (int i = 0; i <= 100; i++)\n",
    "                if (arr[i] == max)\n",
    "                    stack.add(i);\n",
    " \n",
    "            System.out.print(\"#\" + t + \" \");\n",
    "            System.out.print(stack.pop() + \"\\n\");\n",
    "        }\n",
    "    }\n",
    "}"
   ]
  },
  {
   "cell_type": "code",
   "execution_count": 2,
   "metadata": {},
   "outputs": [
    {
     "ename": "SyntaxError",
     "evalue": "invalid syntax (<ipython-input-2-7443e05b43c4>, line 1)",
     "output_type": "error",
     "traceback": [
      "\u001b[1;36m  File \u001b[1;32m\"<ipython-input-2-7443e05b43c4>\"\u001b[1;36m, line \u001b[1;32m1\u001b[0m\n\u001b[1;33m    import java.util.*;\u001b[0m\n\u001b[1;37m                     ^\u001b[0m\n\u001b[1;31mSyntaxError\u001b[0m\u001b[1;31m:\u001b[0m invalid syntax\n"
     ]
    }
   ],
   "source": [
    "import java.util.*;\n",
    "import java.io.*;\n",
    " \n",
    "public class Solution{\n",
    "    public static void main(String[] args)throws IOException{\n",
    "        BufferedReader br=new BufferedReader(new InputStreamReader(System.in));\n",
    "        StringTokenizer st=null;\n",
    "        System.out.println(\"\");\n",
    "        for(int i=1;i<=10000;i++) {\n",
    "            st=new StringTokenizer(br.readLine());\n",
    "            if(st==null)break;\n",
    "            st=new StringTokenizer(br.readLine());\n",
    "              \n",
    "            int[] arr=new int[1000];\n",
    "            int mode=0;\n",
    "              \n",
    "            for(int j=0;j<1000;j++) {\n",
    "                arr[Integer.parseInt(st.nextToken())]++;\n",
    "            }\n",
    "              \n",
    "            for(int j=0;j<=100;j++) {\n",
    "                if(arr[mode]<=arr[j])mode=j;\n",
    "            }\n",
    "          \n",
    "            System.out.println(\"#\"+i+\" \"+mode);\n",
    "        }\n",
    "          \n",
    "    }\n",
    "}"
   ]
  },
  {
   "cell_type": "code",
   "execution_count": null,
   "metadata": {},
   "outputs": [],
   "source": [
    "import java.util.*;\n",
    " \n",
    "public class Solution {\n",
    " \n",
    "    public static void main(String[] args) {\n",
    "        // TODO Auto-generated method stub\n",
    "        Scanner s = new Scanner(System.in);\n",
    "        int t = s.nextInt();\n",
    "        int[][] arr = new int[t][1000];\n",
    "        int start = 0; \n",
    "        int end = 0;\n",
    "        int testCase = 0;\n",
    "        int count = 0;\n",
    "        int maxTimes = 0;\n",
    "        int maxValue = 0;\n",
    "        \n",
    "        while(count < t) {\n",
    "            count = s.nextInt();\n",
    "            for(int i = 0; i < 1000; i++) {\n",
    "                arr[count-1][i] = s.nextInt();\n",
    "            }\n",
    "            Arrays.sort(arr[count -1]);\n",
    "        }\n",
    "        maxValue = arr[0][0];\n",
    "        for(int i = 0; i < t; i++) {\n",
    "            for(int j = 0; j < 999; j++) {\n",
    " \n",
    "                    if(arr[i][j] == arr[i][j+1]) {\n",
    "                        end += 1;\n",
    "                    }\n",
    "                    else {\n",
    "                         \n",
    "                        if(maxTimes <= end - start + 1) {\n",
    "                            maxTimes = end - start + 1;\n",
    "                            maxValue = arr[i][start];\n",
    "                        }\n",
    "                        start = j + 1;\n",
    "                        end = start;\n",
    "     \n",
    "                    }\n",
    " \n",
    "                 \n",
    "            }\n",
    "            System.out.println(\"#\" + (i+1) + \" \" + maxValue);\n",
    "            start = 0;\n",
    "            end = 0;\n",
    "            maxTimes = 0;\n",
    "             \n",
    "        }\n",
    "    } \n",
    " \n",
    "}"
   ]
  },
  {
   "cell_type": "markdown",
   "metadata": {},
   "source": [
    "# View"
   ]
  },
  {
   "cell_type": "markdown",
   "metadata": {},
   "source": [
    "그래서 이 지역에서는 왼쪽과 오른쪽으로 창문을 열었을 때, 양쪽 모두 거리 2 이상의 공간이 확보될 때 조망권이 확보된다고 말한다.\n",
    "\n",
    "[제약 사항]\n",
    "\n",
    "가로 길이는 항상 1000이하로 주어진다.\n",
    "\n",
    "맨 왼쪽 두 칸과 맨 오른쪽 두 칸에는 건물이 지어지지 않는다. (예시에서 빨간색 땅 부분)\n",
    "\n",
    "각 빌딩의 높이는 최대 255이다.\n",
    " \n",
    "[입력]\n",
    "\n",
    "입력 파일의 첫 번째 줄에는 테스트케이스의 길이가 주어진다. 그 바로 다음 줄에 테스트 케이스가 주어진다.\n",
    "\n",
    "총 10개의 테스트케이스가 주어진다.\n",
    " \n",
    "[출력]\n",
    "\n",
    "#부호와 함께 테스트 케이스의 번호를 출력하고, 공백 문자 후 테스트 케이스의 조망권이 확보된 세대의 수를 출력한다.\n"
   ]
  },
  {
   "cell_type": "markdown",
   "metadata": {},
   "source": [
    "## Python"
   ]
  },
  {
   "cell_type": "code",
   "execution_count": null,
   "metadata": {},
   "outputs": [],
   "source": [
    "# [1001][256]\n",
    "# 10번 loop\n",
    "# 00 ~~~~ 00 \n",
    "\n"
   ]
  },
  {
   "cell_type": "code",
   "execution_count": null,
   "metadata": {},
   "outputs": [],
   "source": []
  }
 ],
 "metadata": {
  "kernelspec": {
   "display_name": "Python 3",
   "language": "python",
   "name": "python3"
  },
  "language_info": {
   "codemirror_mode": {
    "name": "ipython",
    "version": 3
   },
   "file_extension": ".py",
   "mimetype": "text/x-python",
   "name": "python",
   "nbconvert_exporter": "python",
   "pygments_lexer": "ipython3",
   "version": "3.6.4"
  }
 },
 "nbformat": 4,
 "nbformat_minor": 2
}
