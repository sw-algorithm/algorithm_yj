{
 "cells": [
  {
   "cell_type": "markdown",
   "metadata": {},
   "source": [
    "# JAVA"
   ]
  },
  {
   "cell_type": "markdown",
   "metadata": {},
   "source": [
    "1차시 자바 프로그램 개요및 실습환경 구축"
   ]
  },
  {
   "cell_type": "markdown",
   "metadata": {},
   "source": [
    "자바 언어\n",
    "- 1991년 \n",
    "Green Project에서 가정용 전자기기에서 사용되는 작은 컴퓨터 언어를 디잔인 함 \n",
    "    - 가정용 전자기기에 사용되는 언어는 작고 견고해야 하며, 신뢰할 수 있는 코드를 필요로 함\n",
    "    - 다른 CPU가 선택될 수 있기 때문에 특정 디바이스에 종속되지 않아야함\n",
    "    * Virtural Machine에서 동작하는 __\"중간코드\"__를 생성하여 이식성이 높은 언어를 디자인함<br>\n",
    "    \n",
    "    \n",
    "- 1992년 \n",
    "    - C++(절차지향 + 객체지향)\n",
    "        -> Oak(완벽한 객체지향 언어)\n",
    "        -> JAVA탄생 <br>\n",
    "        \n",
    "        \n",
    "- 1994년\n",
    "    - WWW의 발전과 Mosaic의 사용에 주목\n",
    "        -> 자바를 기반으로 한 웹 브라우저 제작\n",
    "        - HotJava 브라우저로 발전함\n",
    "        - HotJava Applet이라 불리는 자바의 기능을 보여주기 위해 브라우저가 __중간코드(Bytecode)__를 해석할 수 있도록 만듦<br>\n",
    "        -1995년 5월 23년 Sun World'95'에서 공식 발표<br>\n",
    "        \n",
    "- 1996년\n",
    "    - Netscape 2.0에서부터 자바가 지원됨 "
   ]
  },
  {
   "cell_type": "markdown",
   "metadata": {},
   "source": [
    "![자바 언어의 특징](../img/java1/1.png)\n",
    "- 자바는 단순하다 \n",
    "    - C언어와 C++언어의 복잡한 기능을 제외하여 코드를 단순하게 작성할 수 있음 <br>\n",
    "    ** C(절차 지향 언어), C++(객체지향 요소)\n",
    "        - C++의 전위처리, 포인터 사용, 다중 상속, 구조체, goto문 사용, 연산자 중복 기능... (제외) \n",
    "    - 가비지 컬렉터(Garbage Collector)에 의한 자동 메모리 관리로 할당된 메모리 해제를 신경쓰지 않아도 됨\n",
    "    -> C와 C++언어에 비해 작고 간편<br>\n",
    "    \n",
    "    \n",
    "- 자바는 객체지향적이다 \n",
    "    - 자바는 객체지향 개념이 적용된 c++을 기초로 하여 만들어진 언어 \n",
    "        - __객체지향 언어__\n",
    "            - 언어라는 객체를 사용해서 프로그램을 작성하도록 하는 언어 \n",
    "    - 객체지향을 하게 되면 재사용성(Reusability)을 높일 수 있음\n",
    "    - 단순히 코드의 재사용을 넘어선 객체의 재사용을 뜻함\n",
    "    - 프로그램 개발에 필요한 수많은 클래스 라이브러리들을 API로 제공함 \n",
    "\n",
    "\n",
    "- 자바는 분산처리에 용이하다\n",
    "    - 분산 환경에서 TCP/IP 등의 프로토콜을 통해 효율적으로 실행할 수 있도록 설계된 언어 \n",
    "        - TCP/IP 네트워크 기능 내장\n",
    "        - HTTP, FTP 등과 같은 프로토콜을 쉽게 사용할 수 있도록 라이브러리 제공 \n",
    "    - 서로 다른 컴퓨터 상의 객체들도 원격으로 호출하여 실행할 수 있는 __원격 메서드 호출과 관련된 RMI(Remote Method Invacation) 기능의 라이브러리 제공__\n",
    "    \n",
    "![인터프리터](../img/java1/3.png)    \n",
    "![견고](../img/java1/4.png)    \n",
    "![안전](../img/java1/2.png)\n",
    "![플랫폼 독립적](../img/java1/5.png)\n",
    "![높은 성능](../img/java1/7.png)\n",
    "![멀티스레드 지원](../img/java1/8.png)\n",
    "![동적](../img/java1/9.png)\n",
    "![자바 플랫폼](../img/java1/10.png)\n",
    "![플랫폼의 구조](../img/java1/6.png)\n",
    "![가상머신](../img/java1/11.png)\n",
    "![자바 API](../img/java1/12.png)\n",
    "![자바 주요패키지](../img/java1/13.png)\n",
    "![자바 jdk, sdk](../img/java1/14.png)\n",
    "![자바 jdk폴더 구조](../img/java1/15.png)\n"
   ]
  },
  {
   "cell_type": "markdown",
   "metadata": {},
   "source": [
    "2차시 자바 프로그램 구조 및 데이터 타입"
   ]
  },
  {
   "cell_type": "markdown",
   "metadata": {},
   "source": [
    "![예약어](../img/java1/18.png)\n",
    "![형변환](../img/java1/19.png)\n",
    "![묵시적 형변환](../img/java1/20.png)"
   ]
  },
  {
   "cell_type": "markdown",
   "metadata": {},
   "source": [
    "3차시 자바 연산자 및 배열\n",
    "<pre>\n",
    "public class TwoDArrayTest2{\n",
    "    public static void main(String[] args){\n",
    "        String [][] scroList = new String[3][];\n",
    "        scoreList[0] = new String[2];\n",
    "        scoreList[1] = new String[3];\n",
    "        scoreList[2] = new STring[4]; \n",
    "        for(int i = 0 ; i < scoreList.length; i++){\n",
    "            for(int j=0; j< scoreList[i].length; j++){\n",
    "                scoreList[i][j] = \"[\" + i +\"][\"+j+\"]요소\";\n",
    "                System.out.print(scoreList[i][j]+\"\\t\");\n",
    "            }\n",
    "            System.out.print(scoreList[i][j] + \"\\t\");\n",
    "        }\n",
    "    }\n",
    "</pre>    "
   ]
  },
  {
   "cell_type": "markdown",
   "metadata": {},
   "source": [
    "4차시 자바 제어문"
   ]
  },
  {
   "cell_type": "markdown",
   "metadata": {},
   "source": [
    "5차시 객체지향 핵심 개념"
   ]
  },
  {
   "cell_type": "markdown",
   "metadata": {},
   "source": [
    "![OOP](../img/java1/16.png)\n",
    "![OOP](../img/java1/17.png)\n",
    "![객체(Object)](../img/java1/21.png)\n",
    "![객체(인스턴스)](../img/java1/23.png)\n",
    "![객체(Object)](../img/java1/22.png)\n",
    "![상속](../img/java1/24.png)\n",
    "![상속](../img/java1/25.png)\n",
    "![상속](../img/java1/26.png)\n",
    "![상속](../img/java1/27.png)\n",
    "![다형성](../img/java1/28.png)\n",
    "![추상화](../img/java1/29.png)\n",
    "![캡슐화](../img/java1/30.png)\n",
    "![정보은닉](../img/java1/31.png)\n",
    "![메시지](../img/java1/32.png)\n",
    "![메시지](../img/java1/33.png)"
   ]
  },
  {
   "cell_type": "markdown",
   "metadata": {},
   "source": [
    "6차시 클래스의 구조"
   ]
  },
  {
   "cell_type": "markdown",
   "metadata": {},
   "source": [
    "![클래스 Modifier](../img/java1/37.png)\n",
    "![클래스 UML](../img/java1/38.png)\n",
    "![객체 생성](../img/java1/39.png)\n",
    "![객체 생성](../img/java1/40.png)\n",
    "![객체 생성](../img/java1/34.png)\n",
    "![객체 생성](../img/java1/35.png)\n",
    "![멤버 변수의 선언](../img/java1/36.png)\n",
    "![객체 생성](../img/java1/41.png)\n",
    "![객체 생성](../img/java1/42.png)\n",
    "![객체 생성](../img/java1/43.png)\n",
    "![객체 생성](../img/java1/44.png)\n",
    "![객체 생성](../img/java1/45.png)\n",
    "![객체 생성](../img/java1/46.png)\n",
    "![객체 생성](../img/java1/47.png)\n",
    "![객체 생성](../img/java1/48.png)\n",
    "![객체 생성](../img/java1/49.png)\n",
    "![객체 생성](../img/java1/50.png)\n",
    "![객체 생성](../img/java1/51.png)\n"
   ]
  },
  {
   "cell_type": "markdown",
   "metadata": {},
   "source": [
    "7차시 자바 Modifier와 생성자"
   ]
  },
  {
   "cell_type": "markdown",
   "metadata": {},
   "source": [
    "![객체 생성](../img/java1/52.png)\n",
    "![객체 생성](../img/java1/53.png)\n",
    "![객체 생성](../img/java1/54.png)\n",
    "![객체 생성](../img/java1/55.png)\n",
    "![객체 생성](../img/java1/56.png)\n",
    "![객체 생성](../img/java1/57.png)\n",
    "![객체 생성](../img/java1/58.png)\n",
    "![객체 생성](../img/java1/59.png)\n",
    "![객체 생성](../img/java1/60.png)\n",
    "![객체 생성](../img/java1/61.png)\n",
    "![객체 생성](../img/java1/62.png)\n",
    "![객체 생성](../img/java1/63.png)\n",
    "![객체 생성](../img/java1/64.png)\n",
    "![객체 생성](../img/java1/65.png)\n",
    "![객체 생성](../img/java1/66.png)\n",
    "![객체 생성](../img/java1/67.png)\n",
    "![객체 생성](../img/java1/68.png)\n",
    "![객체 생성](../img/java1/69.png)\n",
    "![객체 생성](../img/java1/70.png)\n",
    "![객체 생성](../img/java1/71.png)\n",
    "\n"
   ]
  },
  {
   "cell_type": "code",
   "execution_count": null,
   "metadata": {},
   "outputs": [],
   "source": []
  }
 ],
 "metadata": {
  "kernelspec": {
   "display_name": "Python 3",
   "language": "python",
   "name": "python3"
  },
  "language_info": {
   "codemirror_mode": {
    "name": "ipython",
    "version": 3
   },
   "file_extension": ".py",
   "mimetype": "text/x-python",
   "name": "python",
   "nbconvert_exporter": "python",
   "pygments_lexer": "ipython3",
   "version": "3.6.4"
  }
 },
 "nbformat": 4,
 "nbformat_minor": 2
}
